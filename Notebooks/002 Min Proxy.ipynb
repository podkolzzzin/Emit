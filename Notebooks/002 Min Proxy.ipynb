{
 "cells": [
  {
   "cell_type": "code",
   "execution_count": 1,
   "metadata": {
    "vscode": {
     "languageId": "csharp"
    }
   },
   "outputs": [
    {
     "data": {
      "text/html": [
       "\r\n",
       "<div>\r\n",
       "    <div id='dotnet-interactive-this-cell-15952.Microsoft.DotNet.Interactive.Http.HttpPort' style='display: none'>\r\n",
       "        The below script needs to be able to find the current output cell; this is an easy method to get it.\r\n",
       "    </div>\r\n",
       "    <script type='text/javascript'>\r\n",
       "async function probeAddresses(probingAddresses) {\r\n",
       "    function timeout(ms, promise) {\r\n",
       "        return new Promise(function (resolve, reject) {\r\n",
       "            setTimeout(function () {\r\n",
       "                reject(new Error('timeout'))\r\n",
       "            }, ms)\r\n",
       "            promise.then(resolve, reject)\r\n",
       "        })\r\n",
       "    }\r\n",
       "\r\n",
       "    if (Array.isArray(probingAddresses)) {\r\n",
       "        for (let i = 0; i < probingAddresses.length; i++) {\r\n",
       "\r\n",
       "            let rootUrl = probingAddresses[i];\r\n",
       "\r\n",
       "            if (!rootUrl.endsWith('/')) {\r\n",
       "                rootUrl = `${rootUrl}/`;\r\n",
       "            }\r\n",
       "\r\n",
       "            try {\r\n",
       "                let response = await timeout(1000, fetch(`${rootUrl}discovery`, {\r\n",
       "                    method: 'POST',\r\n",
       "                    cache: 'no-cache',\r\n",
       "                    mode: 'cors',\r\n",
       "                    timeout: 1000,\r\n",
       "                    headers: {\r\n",
       "                        'Content-Type': 'text/plain'\r\n",
       "                    },\r\n",
       "                    body: probingAddresses[i]\r\n",
       "                }));\r\n",
       "\r\n",
       "                if (response.status == 200) {\r\n",
       "                    return rootUrl;\r\n",
       "                }\r\n",
       "            }\r\n",
       "            catch (e) { }\r\n",
       "        }\r\n",
       "    }\r\n",
       "}\r\n",
       "\r\n",
       "function loadDotnetInteractiveApi() {\r\n",
       "    probeAddresses([\"http://172.21.80.1:2055/\", \"http://172.28.160.1:2055/\", \"http://192.168.1.183:2055/\", \"http://127.0.0.1:2055/\"])\r\n",
       "        .then((root) => {\r\n",
       "        // use probing to find host url and api resources\r\n",
       "        // load interactive helpers and language services\r\n",
       "        let dotnetInteractiveRequire = require.config({\r\n",
       "        context: '15952.Microsoft.DotNet.Interactive.Http.HttpPort',\r\n",
       "                paths:\r\n",
       "            {\r\n",
       "                'dotnet-interactive': `${root}resources`\r\n",
       "                }\r\n",
       "        }) || require;\r\n",
       "\r\n",
       "            window.dotnetInteractiveRequire = dotnetInteractiveRequire;\r\n",
       "\r\n",
       "            window.configureRequireFromExtension = function(extensionName, extensionCacheBuster) {\r\n",
       "                let paths = {};\r\n",
       "                paths[extensionName] = `${root}extensions/${extensionName}/resources/`;\r\n",
       "                \r\n",
       "                let internalRequire = require.config({\r\n",
       "                    context: extensionCacheBuster,\r\n",
       "                    paths: paths,\r\n",
       "                    urlArgs: `cacheBuster=${extensionCacheBuster}`\r\n",
       "                    }) || require;\r\n",
       "\r\n",
       "                return internalRequire\r\n",
       "            };\r\n",
       "        \r\n",
       "            dotnetInteractiveRequire([\r\n",
       "                    'dotnet-interactive/dotnet-interactive'\r\n",
       "                ],\r\n",
       "                function (dotnet) {\r\n",
       "                    dotnet.init(window);\r\n",
       "                },\r\n",
       "                function (error) {\r\n",
       "                    console.log(error);\r\n",
       "                }\r\n",
       "            );\r\n",
       "        })\r\n",
       "        .catch(error => {console.log(error);});\r\n",
       "    }\r\n",
       "\r\n",
       "// ensure `require` is available globally\r\n",
       "if ((typeof(require) !==  typeof(Function)) || (typeof(require.config) !== typeof(Function))) {\r\n",
       "    let require_script = document.createElement('script');\r\n",
       "    require_script.setAttribute('src', 'https://cdnjs.cloudflare.com/ajax/libs/require.js/2.3.6/require.min.js');\r\n",
       "    require_script.setAttribute('type', 'text/javascript');\r\n",
       "    \r\n",
       "    \r\n",
       "    require_script.onload = function() {\r\n",
       "        loadDotnetInteractiveApi();\r\n",
       "    };\r\n",
       "\r\n",
       "    document.getElementsByTagName('head')[0].appendChild(require_script);\r\n",
       "}\r\n",
       "else {\r\n",
       "    loadDotnetInteractiveApi();\r\n",
       "}\r\n",
       "\r\n",
       "    </script>\r\n",
       "</div>"
      ]
     },
     "metadata": {},
     "output_type": "display_data"
    }
   ],
   "source": [
    "using System;\n",
    "using System.Linq;\n",
    "using System.Reflection;\n",
    "using System.Reflection.Emit;"
   ]
  },
  {
   "cell_type": "code",
   "execution_count": 25,
   "metadata": {
    "vscode": {
     "languageId": "csharp"
    }
   },
   "outputs": [],
   "source": [
    "public interface IInterceptor\n",
    "{\n",
    "    void BeforeInvoke(MethodInfo method, object[] args);\n",
    "    void AfterInvoke(MethodInfo method, object[] args, object result);\n",
    "}\n"
   ]
  },
  {
   "cell_type": "code",
   "execution_count": 26,
   "metadata": {
    "vscode": {
     "languageId": "csharp"
    }
   },
   "outputs": [],
   "source": [
    "public class LoggingInterceptor : IInterceptor\n",
    "{\n",
    "    public void BeforeInvoke(MethodInfo method, object[] args)\n",
    "    {\n",
    "        Console.WriteLine($\"Invoking method: {method.Name}\");\n",
    "    }\n",
    "\n",
    "    public void AfterInvoke(MethodInfo method, object[] args, object result)\n",
    "    {\n",
    "        if (method.ReturnType != typeof(void))\n",
    "            Console.WriteLine($\"Method {method.Name} returned: {result}\");\n",
    "        else\n",
    "            Console.WriteLine($\"Method {method.Name} completed.\");\n",
    "    }\n",
    "}\n"
   ]
  },
  {
   "cell_type": "code",
   "execution_count": 31,
   "metadata": {
    "vscode": {
     "languageId": "csharp"
    }
   },
   "outputs": [],
   "source": [
    "  public class ProxyTypeBuilder<T>\n",
    "  {\n",
    "    private readonly TypeBuilder _typeBuilder;\n",
    "    private readonly FieldBuilder _realObjectField,\n",
    "      _interceptorField;\n",
    "    public ProxyTypeBuilder(ModuleBuilder moduleBuilder)\n",
    "    {\n",
    "      _typeBuilder = moduleBuilder.DefineType($\"{typeof(T).Name}Proxy\", TypeAttributes.Public);\n",
    "      _typeBuilder.AddInterfaceImplementation(typeof(T));\n",
    "\n",
    "      _realObjectField = _typeBuilder.DefineField(\"_realObject\", typeof(T), FieldAttributes.Private);\n",
    "      _interceptorField = _typeBuilder.DefineField(\"_interceptor\", typeof(IInterceptor), FieldAttributes.Private);\n",
    "    }\n",
    "    \n",
    "    public void GenerateMethods()\n",
    "    {\n",
    "      foreach (var method in typeof(T).GetMethods())\n",
    "      {\n",
    "        var parameterTypes = method.GetParameters().Select(p => p.ParameterType).ToArray();\n",
    "        var methodBuilder = _typeBuilder.DefineMethod(method.Name, MethodAttributes.Public | MethodAttributes.Virtual, method.ReturnType, parameterTypes);\n",
    "        var ilGenerator = methodBuilder.GetILGenerator();\n",
    "\n",
    "        // Log before the call\n",
    "        ilGenerator.Emit(OpCodes.Ldarg_0); // Load 'this'\n",
    "        ilGenerator.Emit(OpCodes.Ldfld, _interceptorField); // Load interceptor\n",
    "        ilGenerator.Emit(OpCodes.Ldtoken, method);\n",
    "        ilGenerator.Emit(OpCodes.Call, typeof(MethodBase).GetMethod(nameof(MethodBase.GetMethodFromHandle), new[] { typeof(RuntimeMethodHandle) }));\n",
    "        ilGenerator.Emit(OpCodes.Castclass, typeof(MethodInfo));\n",
    "        ilGenerator.Emit(OpCodes.Ldc_I4, parameterTypes.Length);\n",
    "        ilGenerator.Emit(OpCodes.Newarr, typeof(object));\n",
    "\n",
    "        DeclareParameters(parameterTypes, ilGenerator);\n",
    "\n",
    "        ilGenerator.Emit(OpCodes.Callvirt, typeof(IInterceptor).GetMethod(nameof(IInterceptor.BeforeInvoke)));\n",
    "\n",
    "        // Call the real method\n",
    "        ilGenerator.Emit(OpCodes.Ldarg_0); // Load 'this'\n",
    "        ilGenerator.Emit(OpCodes.Ldfld, _realObjectField); // Load real object\n",
    "\n",
    "        for (int i = 0; i < parameterTypes.Length; i++)\n",
    "        {\n",
    "          ilGenerator.Emit(OpCodes.Ldarg, i + 1); // Load method argument\n",
    "        }\n",
    "\n",
    "        ilGenerator.Emit(OpCodes.Callvirt, method); // Invoke actual method\n",
    "\n",
    "        // Log after the call\n",
    "        ilGenerator.Emit(OpCodes.Ldarg_0); // Load 'this'\n",
    "        ilGenerator.Emit(OpCodes.Ldfld, _interceptorField); // Load interceptor\n",
    "        ilGenerator.Emit(OpCodes.Ldtoken, method);\n",
    "        ilGenerator.Emit(OpCodes.Call, typeof(MethodBase).GetMethod(nameof(MethodBase.GetMethodFromHandle), new[] { typeof(RuntimeMethodHandle) }));\n",
    "        ilGenerator.Emit(OpCodes.Castclass, typeof(MethodInfo));\n",
    "        ilGenerator.Emit(OpCodes.Ldc_I4, parameterTypes.Length);\n",
    "        ConvertArgsToArray(ilGenerator, parameterTypes);\n",
    "\n",
    "        if (method.ReturnType == typeof(void))\n",
    "        {\n",
    "          ilGenerator.Emit(OpCodes.Ldnull);\n",
    "        }\n",
    "        else if (method.ReturnType.IsValueType)\n",
    "        {\n",
    "          ilGenerator.Emit(OpCodes.Box, method.ReturnType);\n",
    "        }\n",
    "\n",
    "        ilGenerator.Emit(OpCodes.Callvirt, typeof(IInterceptor).GetMethod(nameof(IInterceptor.AfterInvoke)));\n",
    "\n",
    "        if (method.ReturnType == typeof(void))\n",
    "        {\n",
    "          ilGenerator.Emit(OpCodes.Ret);\n",
    "        }\n",
    "        else\n",
    "        {\n",
    "          ilGenerator.Emit(OpCodes.Unbox_Any, method.ReturnType);\n",
    "          ilGenerator.Emit(OpCodes.Ret);\n",
    "        }\n",
    "      }\n",
    "    }\n",
    "    private static void ConvertArgsToArray(ILGenerator ilGenerator, Type[] parameterTypes)\n",
    "    {\n",
    "\n",
    "      ilGenerator.Emit(OpCodes.Newarr, typeof(object));\n",
    "\n",
    "      for (int i = 0; i < parameterTypes.Length; i++)\n",
    "      {\n",
    "        ilGenerator.Emit(OpCodes.Dup);\n",
    "        ilGenerator.Emit(OpCodes.Ldc_I4, i);\n",
    "        ilGenerator.Emit(OpCodes.Ldarg, i + 1); // Load method argument\n",
    "        if (parameterTypes[i].IsValueType)\n",
    "        {\n",
    "          ilGenerator.Emit(OpCodes.Box, parameterTypes[i]);\n",
    "        }\n",
    "        ilGenerator.Emit(OpCodes.Stelem_Ref);\n",
    "      }\n",
    "    }\n",
    "    private static void DeclareParameters(Type[] parameterTypes, ILGenerator ilGenerator)\n",
    "    {\n",
    "\n",
    "      for (int i = 0; i < parameterTypes.Length; i++)\n",
    "      {\n",
    "        ilGenerator.Emit(OpCodes.Dup);\n",
    "        ilGenerator.Emit(OpCodes.Ldc_I4, i);\n",
    "        ilGenerator.Emit(OpCodes.Ldarg, i + 1); // Load method argument\n",
    "        if (parameterTypes[i].IsValueType)\n",
    "        {\n",
    "          ilGenerator.Emit(OpCodes.Box, parameterTypes[i]);\n",
    "        }\n",
    "        ilGenerator.Emit(OpCodes.Stelem_Ref);\n",
    "      }\n",
    "    }\n",
    "    public void GenerateConstructor()\n",
    "    {\n",
    "      /*\n",
    "         ctor(IPrinter obj, IInterceptor interceptor)\n",
    "         {\n",
    "           _obj = obj; \n",
    "           _interceptor = interceptor;\n",
    "         }  \n",
    "      */\n",
    "      // Define constructor to initialize the fields\n",
    "      var constructor = _typeBuilder.DefineConstructor(MethodAttributes.Public, CallingConventions.Standard, new[] { typeof(T), typeof(IInterceptor) });\n",
    "      var ctorIL = constructor.GetILGenerator();\n",
    "      ctorIL.Emit(OpCodes.Ldarg_0);\n",
    "      ctorIL.Emit(OpCodes.Call, typeof(object).GetConstructor(Type.EmptyTypes));\n",
    "      ctorIL.Emit(OpCodes.Ldarg_0);\n",
    "      ctorIL.Emit(OpCodes.Ldarg_1);\n",
    "      ctorIL.Emit(OpCodes.Stfld, _realObjectField);\n",
    "      ctorIL.Emit(OpCodes.Ldarg_0);\n",
    "      ctorIL.Emit(OpCodes.Ldarg_2);\n",
    "      ctorIL.Emit(OpCodes.Stfld, _interceptorField);\n",
    "      ctorIL.Emit(OpCodes.Ret);\n",
    "    }\n",
    "\n",
    "    public Type Build() => _typeBuilder.CreateType();\n",
    "  }"
   ]
  },
  {
   "cell_type": "code",
   "execution_count": 2,
   "metadata": {
    "vscode": {
     "languageId": "csharp"
    }
   },
   "outputs": [
    {
     "name": "stderr",
     "output_type": "stream",
     "text": [
      "\n",
      "(12,76): error CS0246: The type or namespace name 'IInterceptor' could not be found (are you missing a using directive or an assembly reference?)\n",
      "\n",
      "(14,28): error CS0246: The type or namespace name 'ProxyTypeBuilder<>' could not be found (are you missing a using directive or an assembly reference?)\n",
      "\n"
     ]
    },
    {
     "ename": "Error",
     "evalue": "compilation error",
     "output_type": "error",
     "traceback": []
    },
    {
     "ename": "",
     "evalue": "",
     "output_type": "error",
     "traceback": [
      "\u001b[1;31mThe Kernel crashed while executing code in the the current cell or a previous cell. Please review the code in the cell(s) to identify a possible cause of the failure. Click <a href='https://aka.ms/vscodeJupyterKernelCrash'>here</a> for more info. View Jupyter <a href='command:jupyter.viewOutput'>log</a> for further details."
     ]
    }
   ],
   "source": [
    "public static class ProxyGenerator\n",
    "{\n",
    "   private static readonly AssemblyName _assemblyName;\n",
    "   private static readonly AssemblyBuilder _assemblyBuilder;\n",
    "   private static readonly ModuleBuilder _moduleBuilder;\n",
    "   static ProxyGenerator()\n",
    "   {\n",
    "     _assemblyName = new AssemblyName(\"DynamicProxyAssembly\");\n",
    "     _assemblyBuilder = AssemblyBuilder.DefineDynamicAssembly(_assemblyName, AssemblyBuilderAccess.Run);\n",
    "     _moduleBuilder = _assemblyBuilder.DefineDynamicModule(\"DynamicProxyModule\");\n",
    "   }\n",
    "   public static TInterface CreateProxy<TInterface>(TInterface realObject, IInterceptor interceptor) where TInterface : class\n",
    "   {\n",
    "     var typeBuilder = new ProxyTypeBuilder<TInterface>(_moduleBuilder);\n",
    "     typeBuilder.GenerateMethods();\n",
    "     typeBuilder.GenerateConstructor();\n",
    "     Type proxyType = typeBuilder.Build();\n",
    "     return (TInterface)Activator.CreateInstance(proxyType, realObject, interceptor);\n",
    "   }\n",
    "}"
   ]
  },
  {
   "cell_type": "code",
   "execution_count": 29,
   "metadata": {
    "vscode": {
     "languageId": "csharp"
    }
   },
   "outputs": [],
   "source": [
    "public class SampleClass : IPrinter\n",
    "{\n",
    "    private readonly int _field;\n",
    "\n",
    "    public SampleClass(int x)\n",
    "    {\n",
    "        _field = x;\n",
    "    }\n",
    "\n",
    "    public void Print(string message)\n",
    "    {\n",
    "        Console.WriteLine(message + \" \" + _field);\n",
    "    }\n",
    "}\n",
    "\n",
    "public interface IPrinter\n",
    "{\n",
    "    void Print(string message);\n",
    "}\n"
   ]
  },
  {
   "cell_type": "code",
   "execution_count": 30,
   "metadata": {
    "vscode": {
     "languageId": "csharp"
    }
   },
   "outputs": [
    {
     "name": "stdout",
     "output_type": "stream",
     "text": [
      "Invoking method: Print\n",
      "Hello from Proxy! 42\n",
      "Method Print completed.\n"
     ]
    }
   ],
   "source": [
    "IPrinter realPrinter = new SampleClass(42);\n",
    "IPrinter printerProxy = ProxyGenerator.CreateProxy(realPrinter, new LoggingInterceptor());\n",
    "printerProxy.Print(\"Hello from Proxy!\");"
   ]
  }
 ],
 "metadata": {
  "kernelspec": {
   "display_name": ".NET (C#)",
   "language": "C#",
   "name": ".net-csharp"
  },
  "language_info": {
   "file_extension": ".cs",
   "mimetype": "text/x-csharp",
   "name": "C#",
   "pygments_lexer": "csharp",
   "version": "11.0"
  },
  "orig_nbformat": 4
 },
 "nbformat": 4,
 "nbformat_minor": 2
}
