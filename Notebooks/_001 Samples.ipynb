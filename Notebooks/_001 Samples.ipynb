{
 "cells": [
  {
   "cell_type": "code",
   "execution_count": 1,
   "metadata": {
    "vscode": {
     "languageId": "csharp"
    }
   },
   "outputs": [
    {
     "data": {
      "text/html": [
       "\r\n",
       "<div>\r\n",
       "    <div id='dotnet-interactive-this-cell-15660.Microsoft.DotNet.Interactive.Http.HttpPort' style='display: none'>\r\n",
       "        The below script needs to be able to find the current output cell; this is an easy method to get it.\r\n",
       "    </div>\r\n",
       "    <script type='text/javascript'>\r\n",
       "async function probeAddresses(probingAddresses) {\r\n",
       "    function timeout(ms, promise) {\r\n",
       "        return new Promise(function (resolve, reject) {\r\n",
       "            setTimeout(function () {\r\n",
       "                reject(new Error('timeout'))\r\n",
       "            }, ms)\r\n",
       "            promise.then(resolve, reject)\r\n",
       "        })\r\n",
       "    }\r\n",
       "\r\n",
       "    if (Array.isArray(probingAddresses)) {\r\n",
       "        for (let i = 0; i < probingAddresses.length; i++) {\r\n",
       "\r\n",
       "            let rootUrl = probingAddresses[i];\r\n",
       "\r\n",
       "            if (!rootUrl.endsWith('/')) {\r\n",
       "                rootUrl = `${rootUrl}/`;\r\n",
       "            }\r\n",
       "\r\n",
       "            try {\r\n",
       "                let response = await timeout(1000, fetch(`${rootUrl}discovery`, {\r\n",
       "                    method: 'POST',\r\n",
       "                    cache: 'no-cache',\r\n",
       "                    mode: 'cors',\r\n",
       "                    timeout: 1000,\r\n",
       "                    headers: {\r\n",
       "                        'Content-Type': 'text/plain'\r\n",
       "                    },\r\n",
       "                    body: probingAddresses[i]\r\n",
       "                }));\r\n",
       "\r\n",
       "                if (response.status == 200) {\r\n",
       "                    return rootUrl;\r\n",
       "                }\r\n",
       "            }\r\n",
       "            catch (e) { }\r\n",
       "        }\r\n",
       "    }\r\n",
       "}\r\n",
       "\r\n",
       "function loadDotnetInteractiveApi() {\r\n",
       "    probeAddresses([\"http://10.1.170.55:2049/\", \"http://192.168.1.183:2049/\", \"http://172.21.80.1:2049/\", \"http://172.28.160.1:2049/\", \"http://127.0.0.1:2049/\"])\r\n",
       "        .then((root) => {\r\n",
       "        // use probing to find host url and api resources\r\n",
       "        // load interactive helpers and language services\r\n",
       "        let dotnetInteractiveRequire = require.config({\r\n",
       "        context: '15660.Microsoft.DotNet.Interactive.Http.HttpPort',\r\n",
       "                paths:\r\n",
       "            {\r\n",
       "                'dotnet-interactive': `${root}resources`\r\n",
       "                }\r\n",
       "        }) || require;\r\n",
       "\r\n",
       "            window.dotnetInteractiveRequire = dotnetInteractiveRequire;\r\n",
       "\r\n",
       "            window.configureRequireFromExtension = function(extensionName, extensionCacheBuster) {\r\n",
       "                let paths = {};\r\n",
       "                paths[extensionName] = `${root}extensions/${extensionName}/resources/`;\r\n",
       "                \r\n",
       "                let internalRequire = require.config({\r\n",
       "                    context: extensionCacheBuster,\r\n",
       "                    paths: paths,\r\n",
       "                    urlArgs: `cacheBuster=${extensionCacheBuster}`\r\n",
       "                    }) || require;\r\n",
       "\r\n",
       "                return internalRequire\r\n",
       "            };\r\n",
       "        \r\n",
       "            dotnetInteractiveRequire([\r\n",
       "                    'dotnet-interactive/dotnet-interactive'\r\n",
       "                ],\r\n",
       "                function (dotnet) {\r\n",
       "                    dotnet.init(window);\r\n",
       "                },\r\n",
       "                function (error) {\r\n",
       "                    console.log(error);\r\n",
       "                }\r\n",
       "            );\r\n",
       "        })\r\n",
       "        .catch(error => {console.log(error);});\r\n",
       "    }\r\n",
       "\r\n",
       "// ensure `require` is available globally\r\n",
       "if ((typeof(require) !==  typeof(Function)) || (typeof(require.config) !== typeof(Function))) {\r\n",
       "    let require_script = document.createElement('script');\r\n",
       "    require_script.setAttribute('src', 'https://cdnjs.cloudflare.com/ajax/libs/require.js/2.3.6/require.min.js');\r\n",
       "    require_script.setAttribute('type', 'text/javascript');\r\n",
       "    \r\n",
       "    \r\n",
       "    require_script.onload = function() {\r\n",
       "        loadDotnetInteractiveApi();\r\n",
       "    };\r\n",
       "\r\n",
       "    document.getElementsByTagName('head')[0].appendChild(require_script);\r\n",
       "}\r\n",
       "else {\r\n",
       "    loadDotnetInteractiveApi();\r\n",
       "}\r\n",
       "\r\n",
       "    </script>\r\n",
       "</div>"
      ]
     },
     "metadata": {},
     "output_type": "display_data"
    },
    {
     "data": {
      "text/html": [
       "<div><div></div><div></div><div><strong>Installed Packages</strong><ul><li><span>BenchmarkDotNet, 0.13.7</span></li></ul></div></div>"
      ]
     },
     "metadata": {},
     "output_type": "display_data"
    }
   ],
   "source": [
    "#r \"nuget:BenchmarkDotNet\""
   ]
  },
  {
   "cell_type": "code",
   "execution_count": 2,
   "metadata": {
    "vscode": {
     "languageId": "csharp"
    }
   },
   "outputs": [],
   "source": [
    "using System;\n",
    "using System.Linq.Expressions;\n",
    "using System.Reflection;\n",
    "using System.Reflection.Emit;\n",
    "using BenchmarkDotNet.Attributes;\n",
    "using BenchmarkDotNet.Running;\n",
    "\n",
    "public class SampleClass\n",
    "{\n",
    "    public void PrintMessage()\n",
    "    {\n",
    "        // Do nothing for the sake of the benchmark\n",
    "    }\n",
    "}\n",
    "\n",
    "public delegate void DynamicMethodDelegate(object target);\n",
    "\n",
    "[MemoryDiagnoser] // This attribute reports memory allocations\n",
    "public class InvokeBenchmark\n",
    "{\n",
    "    private readonly SampleClass sampleInstance = new SampleClass();\n",
    "    private readonly MethodInfo methodInfo;\n",
    "    private readonly DynamicMethodDelegate dynamicDelegate;\n",
    "    private readonly Action<SampleClass> expressionDelegate;\n",
    "\n",
    "    public InvokeBenchmark()\n",
    "    {\n",
    "        methodInfo = typeof(SampleClass).GetMethod(\"PrintMessage\");\n",
    "\n",
    "        // Reflection.Emit\n",
    "        var dynamicMethod = new DynamicMethod(\"DynamicInvoke\", typeof(void), new Type[] { typeof(object) }, typeof(SampleClass));\n",
    "        var ilGen = dynamicMethod.GetILGenerator();\n",
    "        ilGen.Emit(OpCodes.Ldarg_0);\n",
    "        ilGen.Emit(OpCodes.Castclass, typeof(SampleClass));\n",
    "        ilGen.Emit(OpCodes.Callvirt, methodInfo);\n",
    "        ilGen.Emit(OpCodes.Ret);\n",
    "        dynamicDelegate = (DynamicMethodDelegate)dynamicMethod.CreateDelegate(typeof(DynamicMethodDelegate));\n",
    "\n",
    "        // Expressions\n",
    "        var parameter = Expression.Parameter(typeof(SampleClass), \"obj\");\n",
    "        var methodCall = Expression.Call(parameter, methodInfo);\n",
    "        var lambda = Expression.Lambda<Action<SampleClass>>(methodCall, parameter);\n",
    "        expressionDelegate = lambda.Compile();\n",
    "    }\n",
    "\n",
    "    [Benchmark]\n",
    "    public void MethodInfoInvoke()\n",
    "    {\n",
    "        methodInfo.Invoke(sampleInstance, null);\n",
    "    }\n",
    "\n",
    "    [Benchmark]\n",
    "    public void DynamicDelegateInvoke()\n",
    "    {\n",
    "        dynamicDelegate(sampleInstance);\n",
    "    }\n",
    "\n",
    "    [Benchmark]\n",
    "    public void ExpressionDelegateInvoke()\n",
    "    {\n",
    "        expressionDelegate(sampleInstance);\n",
    "    }\n",
    "}"
   ]
  },
  {
   "cell_type": "code",
   "execution_count": 3,
   "metadata": {
    "vscode": {
     "languageId": "csharp"
    }
   },
   "outputs": [
    {
     "name": "stdout",
     "output_type": "stream",
     "text": [
      "\u001b]9;4;3;0\u001b\\\u001b]9;4;0;0\u001b\\"
     ]
    },
    {
     "ename": "Error",
     "evalue": "System.UnauthorizedAccessException: Access to the path 'c:\\Program Files\\Microsoft VS Code\\BenchmarkDotNet.Artifacts\\results' is denied.\r\n   at System.IO.FileSystem.CreateDirectory(String fullPath, Byte[] securityDescriptor)\r\n   at System.IO.Directory.CreateDirectory(String path)\r\n   at BenchmarkDotNet.Extensions.CommonExtensions.CreateIfNotExists(String directoryPath)\r\n   at BenchmarkDotNet.Running.BenchmarkRunnerClean.GetResultsFolderPath(String rootArtifactsFolderPath, BenchmarkRunInfo[] benchmarkRunInfos)\r\n   at BenchmarkDotNet.Running.BenchmarkRunnerClean.Run(BenchmarkRunInfo[] benchmarkRunInfos)\r\n   at BenchmarkDotNet.Running.BenchmarkRunner.RunWithDirtyAssemblyResolveHelper(Type type, IConfig config, String[] args)\r\n   at BenchmarkDotNet.Running.BenchmarkRunner.<>c__DisplayClass0_0`1.<Run>b__0()\r\n   at BenchmarkDotNet.Running.BenchmarkRunner.RunWithExceptionHandling(Func`1 run)\r\n   at BenchmarkDotNet.Running.BenchmarkRunner.Run[T](IConfig config, String[] args)\r\n   at Submission#4.<<Initialize>>d__0.MoveNext()\r\n--- End of stack trace from previous location ---\r\n   at Microsoft.CodeAnalysis.Scripting.ScriptExecutionState.RunSubmissionsAsync[TResult](ImmutableArray`1 precedingExecutors, Func`2 currentExecutor, StrongBox`1 exceptionHolderOpt, Func`2 catchExceptionOpt, CancellationToken cancellationToken)",
     "output_type": "error",
     "traceback": [
      "System.UnauthorizedAccessException: Access to the path 'c:\\Program Files\\Microsoft VS Code\\BenchmarkDotNet.Artifacts\\results' is denied.\r\n   at System.IO.FileSystem.CreateDirectory(String fullPath, Byte[] securityDescriptor)\r\n   at System.IO.Directory.CreateDirectory(String path)\r\n   at BenchmarkDotNet.Extensions.CommonExtensions.CreateIfNotExists(String directoryPath)\r\n   at BenchmarkDotNet.Running.BenchmarkRunnerClean.GetResultsFolderPath(String rootArtifactsFolderPath, BenchmarkRunInfo[] benchmarkRunInfos)\r\n   at BenchmarkDotNet.Running.BenchmarkRunnerClean.Run(BenchmarkRunInfo[] benchmarkRunInfos)\r\n   at BenchmarkDotNet.Running.BenchmarkRunner.RunWithDirtyAssemblyResolveHelper(Type type, IConfig config, String[] args)\r\n   at BenchmarkDotNet.Running.BenchmarkRunner.<>c__DisplayClass0_0`1.<Run>b__0()\r\n   at BenchmarkDotNet.Running.BenchmarkRunner.RunWithExceptionHandling(Func`1 run)\r\n   at BenchmarkDotNet.Running.BenchmarkRunner.Run[T](IConfig config, String[] args)\r\n   at Submission#4.<<Initialize>>d__0.MoveNext()\r\n--- End of stack trace from previous location ---\r\n   at Microsoft.CodeAnalysis.Scripting.ScriptExecutionState.RunSubmissionsAsync[TResult](ImmutableArray`1 precedingExecutors, Func`2 currentExecutor, StrongBox`1 exceptionHolderOpt, Func`2 catchExceptionOpt, CancellationToken cancellationToken)",
      "   at System.IO.FileSystem.CreateDirectory(String fullPath, Byte[] securityDescriptor)",
      "   at System.IO.Directory.CreateDirectory(String path)",
      "   at BenchmarkDotNet.Extensions.CommonExtensions.CreateIfNotExists(String directoryPath)",
      "   at BenchmarkDotNet.Running.BenchmarkRunnerClean.GetResultsFolderPath(String rootArtifactsFolderPath, BenchmarkRunInfo[] benchmarkRunInfos)",
      "   at BenchmarkDotNet.Running.BenchmarkRunnerClean.Run(BenchmarkRunInfo[] benchmarkRunInfos)",
      "   at BenchmarkDotNet.Running.BenchmarkRunner.RunWithDirtyAssemblyResolveHelper(Type type, IConfig config, String[] args)",
      "   at BenchmarkDotNet.Running.BenchmarkRunner.<>c__DisplayClass0_0`1.<Run>b__0()",
      "   at BenchmarkDotNet.Running.BenchmarkRunner.RunWithExceptionHandling(Func`1 run)",
      "   at BenchmarkDotNet.Running.BenchmarkRunner.Run[T](IConfig config, String[] args)",
      "   at Submission#4.<<Initialize>>d__0.MoveNext()",
      "--- End of stack trace from previous location ---",
      "   at Microsoft.CodeAnalysis.Scripting.ScriptExecutionState.RunSubmissionsAsync[TResult](ImmutableArray`1 precedingExecutors, Func`2 currentExecutor, StrongBox`1 exceptionHolderOpt, Func`2 catchExceptionOpt, CancellationToken cancellationToken)"
     ]
    }
   ],
   "source": [
    "BenchmarkRunner.Run<InvokeBenchmark>();"
   ]
  }
 ],
 "metadata": {
  "kernelspec": {
   "display_name": ".NET (C#)",
   "language": "C#",
   "name": ".net-csharp"
  },
  "language_info": {
   "file_extension": ".cs",
   "mimetype": "text/x-csharp",
   "name": "C#",
   "pygments_lexer": "csharp",
   "version": "11.0"
  },
  "orig_nbformat": 4
 },
 "nbformat": 4,
 "nbformat_minor": 2
}
